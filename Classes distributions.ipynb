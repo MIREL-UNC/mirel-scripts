{
 "cells": [
  {
   "cell_type": "code",
   "execution_count": 104,
   "metadata": {
    "collapsed": true
   },
   "outputs": [],
   "source": [
    "%matplotlib inline"
   ]
  },
  {
   "cell_type": "code",
   "execution_count": 131,
   "metadata": {
    "collapsed": true
   },
   "outputs": [],
   "source": [
    "import numpy\n",
    "import pickle\n",
    "import seaborn as sns\n",
    "\n",
    "from collections import defaultdict"
   ]
  },
  {
   "cell_type": "code",
   "execution_count": 87,
   "metadata": {
    "collapsed": false
   },
   "outputs": [],
   "source": [
    "label_types = ['URI', 'YAGO', 'LKIF', 'ENTITY', 'NER']\n",
    "\n",
    "def lables_to_classes(labels):\n",
    "    classes = {}\n",
    "    for index, label_type in enumerate(label_types):\n",
    "        level_labels = [(x[index][0] if isinstance(x[index], list) else x[index]) for x in labels]\n",
    "        level_labels = [('I-' + x if (x != 'O' and x != 'I' and not x.startswith('I-')) else x) for x in level_labels]\n",
    "        classes[label_type] = numpy.unique(level_labels, return_counts=True)\n",
    "    return classes"
   ]
  },
  {
   "cell_type": "code",
   "execution_count": 88,
   "metadata": {
    "collapsed": false,
    "scrolled": true
   },
   "outputs": [],
   "source": [
    "def print_classes(classes_dict):\n",
    "    for level, level_classes in classes_dict.items():\n",
    "        print(level)\n",
    "        for class_name, count in zip(*level_classes):\n",
    "            print('\\t', class_name, count)"
   ]
  },
  {
   "cell_type": "code",
   "execution_count": 122,
   "metadata": {
    "collapsed": true
   },
   "outputs": [],
   "source": [
    "def plot_class_distribution(classes):\n",
    "    for level in reversed(label_types[:-1]):\n",
    "        if not level in classes:\n",
    "            continue\n",
    "        print(level)\n",
    "        distributions = numpy.sort(classes[level][1])[:-1]\n",
    "        sns.distplot(distributions, kde=False)\n",
    "        sns.plt.show()"
   ]
  },
  {
   "cell_type": "code",
   "execution_count": 90,
   "metadata": {
    "collapsed": true
   },
   "outputs": [],
   "source": [
    "def compare_classes(classes1, classes2):\n",
    "    for level in classes1.keys():\n",
    "        if level not in classes2:\n",
    "            continue\n",
    "        classes_names1 = set(classes1[level][0].tolist())\n",
    "        classes_names2 = set(classes2[level][0].tolist())\n",
    "        intersection = classes_names1.intersection(classes_names2)\n",
    "        counts = sum([(count if class_name in intersection and class_name != 'O' else 0) for class_name, count in zip(*classes1[level])])\n",
    "        total_instances = sum([(count if class_name != 'O' else 0) for class_name, count in zip(*classes1[level])])\n",
    "        print(level)\n",
    "        print('\\tMax recognized classes', len(intersection), 'of', len(classes_names1))\n",
    "        print('\\tMax recognized instances', counts, 'of', total_instances)\n",
    "        print('\\tMax possible accuracy', (float(counts) + classes1[level][1].sum() - total_instances)/classes1[level][1].sum())"
   ]
  },
  {
   "cell_type": "code",
   "execution_count": 159,
   "metadata": {
    "collapsed": true
   },
   "outputs": [],
   "source": [
    "def counts_to_dict(labels, counts):\n",
    "    classes_dict = defaultdict(int)\n",
    "    for label, count in zip(labels, counts):\n",
    "        classes_dict[label] = count\n",
    "    return classes_dict\n",
    "\n",
    "def plot_joint_classes(classes1, classes2):\n",
    "    for level in reversed(label_types[:-1]):\n",
    "        if not level in classes1 or not level in classes2:\n",
    "            continue\n",
    "        print(level)\n",
    "        count_dict1 = counts_to_dict(*classes1[level])\n",
    "        count_dict2 = counts_to_dict(*classes2[level])\n",
    "        distributions1 = []\n",
    "        distributions2 = []\n",
    "        for label in set(list(count_dict1.keys()) + list(count_dict2.keys())):\n",
    "            if label == 'O':\n",
    "                continue\n",
    "            distributions1.append(count_dict1[label])\n",
    "            distributions2.append(count_dict2[label])\n",
    "        with sns.axes_style(\"white\"):\n",
    "            sns.jointplot(x=numpy.array(distributions1), y=numpy.array(distributions2), color=\"k\");\n",
    "            sns.plt.show()"
   ]
  },
  {
   "cell_type": "code",
   "execution_count": 91,
   "metadata": {
    "collapsed": true
   },
   "outputs": [],
   "source": [
    "with open('/home/ccardellino/datasets/echr/annotated/processed/classes.pickle', 'rb') as echr_file:\n",
    "    echr_classes = pickle.load(echr_file)"
   ]
  },
  {
   "cell_type": "code",
   "execution_count": 120,
   "metadata": {
    "collapsed": false,
    "scrolled": true
   },
   "outputs": [
    {
     "name": "stdout",
     "output_type": "stream",
     "text": [
      "ENTITY\n",
      "\t I- 2\n",
      "\t I-abstraction 250\n",
      "\t I-act 845\n",
      "\t I-document 331\n",
      "\t I-organization 258\n",
      "\t I-person 278\n",
      "\t O 1985\n",
      "NER\n",
      "\t I 1964\n",
      "\t O 1985\n",
      "YAGO\n",
      "\t I- 17\n",
      "\t I-Crime 12\n",
      "\t I-Legal_Proceeding 16\n",
      "\t I-Legal_Role 3\n",
      "\t I-NOT_IN_WIKIPEDIA_Applicability 3\n",
      "\t I-NOT_IN_WIKIPEDIA_Application 3\n",
      "\t I-NOT_IN_WIKIPEDIA_Compliance_(law) 3\n",
      "\t I-NOT_IN_WIKIPEDIA_Examination 10\n",
      "\t I-NOT_IN_WIKIPEDIA_Identification_of_responsible 6\n",
      "\t I-NOT_IN_WIKIPEDIA_Inhuman_and_Degrading_Treatment 9\n",
      "\t I-NOT_IN_WIKIPEDIA_Investigation 79\n",
      "\t I-NOT_IN_WIKIPEDIA_Police_records 3\n",
      "\t I-NOT_IN_WIKIPEDIA_assessment 10\n",
      "\t I-Public_Body 23\n",
      "\t I-https://en.wikipedia.org/wiki/Burden_of_proof_(law) 5\n",
      "\t I-https://en.wikipedia.org/wiki/Damages 10\n",
      "\t I-https://en.wikipedia.org/wiki/Discrimination 3\n",
      "\t I-https://en.wikipedia.org/wiki/Evidence_(law) 32\n",
      "\t I-https://en.wikipedia.org/wiki/Government 33\n",
      "\t I-https://en.wikipedia.org/wiki/Hearing_(law) 10\n",
      "\t I-https://en.wikipedia.org/wiki/Interior_ministry 5\n",
      "\t I-https://en.wikipedia.org/wiki/Jurisdiction 10\n",
      "\t I-https://en.wikipedia.org/wiki/Legal_case 553\n",
      "\t I-https://en.wikipedia.org/wiki/Police_officer 16\n",
      "\t I-https://en.wikipedia.org/wiki/Principle 8\n",
      "\t I-https://en.wikipedia.org/wiki/Punishment 3\n",
      "\t I-https://en.wikipedia.org/wiki/Sexual_violence 4\n",
      "\t I-https://en.wikipedia.org/wiki/Violation_of_law 46\n",
      "\t I-https://en.wikipedia.org/wiki/Witness 3\n",
      "\t I-wordnet_allegation_107236077 48\n",
      "\t I-wordnet_applicant_109607280 70\n",
      "\t I-wordnet_article_106392935 183\n",
      "\t I-wordnet_authority_105176607 33\n",
      "\t I-wordnet_case_law_106535035 16\n",
      "\t I-wordnet_committee_108324514 6\n",
      "\t I-wordnet_complaint_106562217 41\n",
      "\t I-wordnet_convention_106774316 28\n",
      "\t I-wordnet_country_108544813 40\n",
      "\t I-wordnet_court_108329453 132\n",
      "\t I-wordnet_criminal_law_106539178 6\n",
      "\t I-wordnet_deterrence_101076488 4\n",
      "\t I-wordnet_human_right_105176846 10\n",
      "\t I-wordnet_judge_110225219 90\n",
      "\t I-wordnet_judgment_101187810 8\n",
      "\t I-wordnet_law_106532330 23\n",
      "\t I-wordnet_legal_code_106667792 6\n",
      "\t I-wordnet_legal_document_106479665 29\n",
      "\t I-wordnet_maltreatment_100419908 15\n",
      "\t I-wordnet_obligation_106773150 87\n",
      "\t I-wordnet_party_110402824 19\n",
      "\t I-wordnet_police_108209687 59\n",
      "\t I-wordnet_prohibition_106542047 4\n",
      "\t I-wordnet_prosecutor_110484858 14\n",
      "\t I-wordnet_protocol_105668915 3\n",
      "\t I-wordnet_rape_100773402 4\n",
      "\t I-wordnet_right_105174653 34\n",
      "\t I-wordnet_submission_106731510 10\n",
      "\t I-wordnet_torture_100421437 4\n",
      "\t O 1985\n",
      "LKIF\n",
      "\t I- 15\n",
      "\t I-Code 59\n",
      "\t I-Crime 97\n",
      "\t I-Decision 8\n",
      "\t I-Jurisdiction 10\n",
      "\t I-Legal_Document 215\n",
      "\t I-Legal_Person 40\n",
      "\t I-Legal_Proceeding 758\n",
      "\t I-Legal_Role 129\n",
      "\t I-Legal_Speech_Act 99\n",
      "\t I-Obligation 87\n",
      "\t I-Professional_Legal_Role 90\n",
      "\t I-Prohibition 4\n",
      "\t I-Public_Body 258\n",
      "\t I-Regulation 7\n",
      "\t I-Right 52\n",
      "\t I-Social_Role 16\n",
      "\t I-wordnet_case_law_106535035 16\n",
      "\t I-wordnet_deterrence_101076488 4\n",
      "\t O 1985\n",
      "URI\n",
      "\t I- 1754\n",
      "\t I-European_Convention_on_Human_Rights 17\n",
      "\t I-NOT_IN_WIKIPEDIA_Croatian_Criminal_Code 5\n",
      "\t I-NOT_IN_WIKIPEDIA_Croatian_legal_system 8\n",
      "\t I-NOT_IN_WIKIPEDIA_European_code_on_criminal_procedure 4\n",
      "\t I-NOT_IN_WIKIPEDIA_national_authority 2\n",
      "\t I-Preventive_detention 2\n",
      "\t I-https://en.wikipedia.org/wiki/Article_13_of_the_European_Convention_on_Human_Rights 5\n",
      "\t I-https://en.wikipedia.org/wiki/Article_14_of_the_European_Convention_on_Human_Rights 10\n",
      "\t I-https://en.wikipedia.org/wiki/Article_1_of_the_European_Convention_on_Human_Rights 5\n",
      "\t I-https://en.wikipedia.org/wiki/Article_34_of_the_European_Convention_on_Human_Rights 5\n",
      "\t I-https://en.wikipedia.org/wiki/Article_3_and_8_of_the_European_Convention_on_Human_Rights 35\n",
      "\t I-https://en.wikipedia.org/wiki/Article_3_of_the_European_Convention_on_Human_Rights 21\n",
      "\t I-https://en.wikipedia.org/wiki/Article_41_of_the_European_Convention_on_Human_Rights 5\n",
      "\t I-https://en.wikipedia.org/wiki/Article_8_of_the_European_Convention_on_Human_Rights 11\n",
      "\t I-https://en.wikipedia.org/wiki/Complaint 18\n",
      "\t I-https://en.wikipedia.org/wiki/Croatia 1\n",
      "\t I-https://en.wikipedia.org/wiki/Croatian_Government 3\n",
      "\t I-https://en.wikipedia.org/wiki/European_Court_of_Human_Rights 29\n",
      "\t I-https://en.wikipedia.org/wiki/Member_states_of_the_Council_of_Europe 6\n",
      "\t I-https://en.wikipedia.org/wiki/State's_Attorney_Office_of_the_Republic_of_Croatia 18\n",
      "\t O 1985\n"
     ]
    }
   ],
   "source": [
    "print_classes(echr_classes)"
   ]
  },
  {
   "cell_type": "code",
   "execution_count": 123,
   "metadata": {
    "collapsed": false,
    "scrolled": true
   },
   "outputs": [
    {
     "name": "stdout",
     "output_type": "stream",
     "text": [
      "ENTITY\n"
     ]
    },
    {
     "data": {
      "image/png": "[encoded data removed]",
      "text/plain": [
       "<matplotlib.figure.Figure at 0x7f0622a4e4a8>"
      ]
     },
     "metadata": {},
     "output_type": "display_data"
    },
    {
     "name": "stdout",
     "output_type": "stream",
     "text": [
      "LKIF\n"
     ]
    },
    {
     "data": {
      "image/png": "[encoded data removed]",
      "text/plain": [
       "<matplotlib.figure.Figure at 0x7f064009f780>"
      ]
     },
     "metadata": {},
     "output_type": "display_data"
    },
    {
     "name": "stdout",
     "output_type": "stream",
     "text": [
      "YAGO\n"
     ]
    },
    {
     "data": {
      "image/png": "[encoded data removed]",
      "text/plain": [
       "<matplotlib.figure.Figure at 0x7f0622986940>"
      ]
     },
     "metadata": {},
     "output_type": "display_data"
    },
    {
     "name": "stdout",
     "output_type": "stream",
     "text": [
      "URI\n"
     ]
    },
    {
     "data": {
      "image/png": "[encoded data removed]",
      "text/plain": [
       "<matplotlib.figure.Figure at 0x7f06254f2ef0>"
      ]
     },
     "metadata": {},
     "output_type": "display_data"
    }
   ],
   "source": [
    "plot_class_distribution(echr_classes)"
   ]
  },
  {
   "cell_type": "code",
   "execution_count": 93,
   "metadata": {
    "collapsed": true
   },
   "outputs": [],
   "source": [
    "with open('/home/ccardellino/datasets/echr/annotated/evaluation/handcrafted/labels.pickle', 'rb') as ev_file:\n",
    "    evaluation_labels = pickle.load(ev_file)"
   ]
  },
  {
   "cell_type": "code",
   "execution_count": 94,
   "metadata": {
    "collapsed": false
   },
   "outputs": [],
   "source": [
    "evaluataion_classes = lables_to_classes(evaluation_labels)"
   ]
  },
  {
   "cell_type": "code",
   "execution_count": 95,
   "metadata": {
    "collapsed": false,
    "scrolled": true
   },
   "outputs": [
    {
     "name": "stdout",
     "output_type": "stream",
     "text": [
      "ENTITY\n",
      "\t I-abstraction 207\n",
      "\t I-act 235\n",
      "\t I-document 157\n",
      "\t I-organization 150\n",
      "\t I-person 78\n",
      "\t O 2633\n",
      "NER\n",
      "\t I 827\n",
      "\t O 2633\n",
      "YAGO\n",
      "\t I-Crime 22\n",
      "\t I-Legal_Doctrine 12\n",
      "\t I-Legal_Proceeding 4\n",
      "\t I-NOT_IN_WIKIPEDIA_assessment 3\n",
      "\t I-Organisation_Role 2\n",
      "\t I-https://en.wikipedia.org/wiki/Asset_forfeiture 40\n",
      "\t I-https://en.wikipedia.org/wiki/Confiscation 17\n",
      "\t I-https://en.wikipedia.org/wiki/Constitutional_court 2\n",
      "\t I-https://en.wikipedia.org/wiki/Criminal_procedure 18\n",
      "\t I-https://en.wikipedia.org/wiki/Damages 6\n",
      "\t I-https://en.wikipedia.org/wiki/Government 20\n",
      "\t I-https://en.wikipedia.org/wiki/Jurisdiction 1\n",
      "\t I-https://en.wikipedia.org/wiki/Legal_case 158\n",
      "\t I-https://en.wikipedia.org/wiki/Principle 18\n",
      "\t I-https://en.wikipedia.org/wiki/Violation_of_law 7\n",
      "\t I-wordnet_act_106532095 2\n",
      "\t I-wordnet_amnesty_101249315 1\n",
      "\t I-wordnet_applicant_109607280 49\n",
      "\t I-wordnet_article_106392935 97\n",
      "\t I-wordnet_association_108049401 2\n",
      "\t I-wordnet_authority_105176607 3\n",
      "\t I-wordnet_case_law_106535035 7\n",
      "\t I-wordnet_company_108058098 8\n",
      "\t I-wordnet_complaint_106562217 8\n",
      "\t I-wordnet_convention_106774316 2\n",
      "\t I-wordnet_country_108544813 6\n",
      "\t I-wordnet_court_108329453 118\n",
      "\t I-wordnet_criminal_record_106490173 2\n",
      "\t I-wordnet_fundamental_law_106533648 9\n",
      "\t I-wordnet_human_right_105176846 54\n",
      "\t I-wordnet_judgment_101187810 5\n",
      "\t I-wordnet_law_106532330 20\n",
      "\t I-wordnet_legal_code_106667792 4\n",
      "\t I-wordnet_license_101139194 1\n",
      "\t I-wordnet_obligation_106773150 6\n",
      "\t I-wordnet_party_110402824 10\n",
      "\t I-wordnet_person_100007846 8\n",
      "\t I-wordnet_pleading_106559365 4\n",
      "\t I-wordnet_protocol_105668915 2\n",
      "\t I-wordnet_requirement_105892651 9\n",
      "\t I-wordnet_right_105174653 20\n",
      "\t I-wordnet_sanction_101139000 2\n",
      "\t I-wordnet_solicitation_107187773 2\n",
      "\t I-wordnet_submission_106731510 8\n",
      "\t I-wordnet_written_agreement_106771653 1\n",
      "\t O 2660\n",
      "LKIF\n",
      "\t I-Code 33\n",
      "\t I-Company 8\n",
      "\t I-Crime 81\n",
      "\t I-Decision 5\n",
      "\t I-Jurisdiction 1\n",
      "\t I-Legal_Doctrine 18\n",
      "\t I-Legal_Document 104\n",
      "\t I-Legal_Person 6\n",
      "\t I-Legal_Proceeding 208\n",
      "\t I-Legal_Role 62\n",
      "\t I-Legal_Speech_Act 31\n",
      "\t I-Natural_Person 8\n",
      "\t I-Obligation 6\n",
      "\t I-Organisation_Role 2\n",
      "\t I-Public_Body 140\n",
      "\t I-Regulation 4\n",
      "\t I-Right 92\n",
      "\t I-Society 2\n",
      "\t I-wordnet_case_law_106535035 1\n",
      "\t O 2648\n",
      "URI\n",
      "\t I- 579\n",
      "\t I-Constitution_of_the_Polish_People's_Republic 9\n",
      "\t I-NOT_IN_WIKIPEDIA_Polish_government_(entity) 20\n",
      "\t I-NOT_IN_WIKIPEDIA_european_convention_on_human_rights_protocols 2\n",
      "\t I-Right_to_property 34\n",
      "\t I-https://en.wikipedia.org/wiki/Article_1_of_the_European_Convention_on_Human_Rights 64\n",
      "\t I-https://en.wikipedia.org/wiki/Article_41_of_the_European_Convention_on_Human_Rights 10\n",
      "\t I-https://en.wikipedia.org/wiki/Category:European_Court_of_Human_Rights_case_law 1\n",
      "\t I-https://en.wikipedia.org/wiki/Constitutional_Tribunal_(Poland) 2\n",
      "\t I-https://en.wikipedia.org/wiki/European_Convention_on_Human_Rights$Convention_protocols 2\n",
      "\t I-https://en.wikipedia.org/wiki/European_Court_of_Human_Rights 66\n",
      "\t I-https://en.wikipedia.org/wiki/Margin_of_appreciation 9\n",
      "\t I-https://en.wikipedia.org/wiki/Polish_Penal_Code 4\n",
      "\t I-https://en.wikipedia.org/wiki/Proportionality_(law) 3\n",
      "\t I-https://en.wikipedia.org/wiki/Public_interest 16\n",
      "\t I-https://en.wikipedia.org/wiki/Sovereignty 1\n",
      "\t I-https://en.wikipedia.org/wiki/Warsaw_Uprising_Museum 5\n",
      "\t O 2633\n"
     ]
    }
   ],
   "source": [
    "print_classes(evaluataion_classes)"
   ]
  },
  {
   "cell_type": "code",
   "execution_count": 124,
   "metadata": {
    "collapsed": false,
    "scrolled": true
   },
   "outputs": [
    {
     "name": "stdout",
     "output_type": "stream",
     "text": [
      "ENTITY\n"
     ]
    },
    {
     "data": {
      "image/png": "[encoded data removed]",
      "text/plain": [
       "<matplotlib.figure.Figure at 0x7f06206f2b70>"
      ]
     },
     "metadata": {},
     "output_type": "display_data"
    },
    {
     "name": "stdout",
     "output_type": "stream",
     "text": [
      "LKIF\n"
     ]
    },
    {
     "data": {
      "image/png": "[encoded data removed]",
      "text/plain": [
       "<matplotlib.figure.Figure at 0x7f06227c0630>"
      ]
     },
     "metadata": {},
     "output_type": "display_data"
    },
    {
     "name": "stdout",
     "output_type": "stream",
     "text": [
      "YAGO\n"
     ]
    },
    {
     "data": {
      "image/png": "[encoded data removed]",
      "text/plain": [
       "<matplotlib.figure.Figure at 0x7f0620718160>"
      ]
     },
     "metadata": {},
     "output_type": "display_data"
    },
    {
     "name": "stdout",
     "output_type": "stream",
     "text": [
      "URI\n"
     ]
    },
    {
     "data": {
      "image/png": "[encoded data removed]",
      "text/plain": [
       "<matplotlib.figure.Figure at 0x7f06206d1f60>"
      ]
     },
     "metadata": {},
     "output_type": "display_data"
    }
   ],
   "source": [
    "plot_class_distribution(evaluataion_classes)"
   ]
  },
  {
   "cell_type": "code",
   "execution_count": 96,
   "metadata": {
    "collapsed": false
   },
   "outputs": [
    {
     "name": "stdout",
     "output_type": "stream",
     "text": [
      "ENTITY\n",
      "\tMax recognized classes 6 of 6\n",
      "\tMax recognized instances 827 of 827\n",
      "\tMax possible accuracy 1.0\n",
      "NER\n",
      "\tMax recognized classes 2 of 2\n",
      "\tMax recognized instances 827 of 827\n",
      "\tMax possible accuracy 1.0\n",
      "YAGO\n",
      "\tMax recognized classes 27 of 46\n",
      "\tMax recognized instances 658 of 800\n",
      "\tMax possible accuracy 0.958959537572\n",
      "LKIF\n",
      "\tMax recognized classes 15 of 20\n",
      "\tMax recognized instances 774 of 812\n",
      "\tMax possible accuracy 0.98901734104\n",
      "URI\n",
      "\tMax recognized classes 5 of 18\n",
      "\tMax recognized instances 719 of 827\n",
      "\tMax possible accuracy 0.968786127168\n"
     ]
    }
   ],
   "source": [
    "compare_classes(evaluataion_classes, echr_classes)"
   ]
  },
  {
   "cell_type": "code",
   "execution_count": 160,
   "metadata": {
    "collapsed": false
   },
   "outputs": [
    {
     "name": "stdout",
     "output_type": "stream",
     "text": [
      "ENTITY\n"
     ]
    },
    {
     "data": {
      "image/png": "[encoded data removed]",
      "text/plain": [
       "<matplotlib.figure.Figure at 0x7f06228c5208>"
      ]
     },
     "metadata": {},
     "output_type": "display_data"
    },
    {
     "name": "stdout",
     "output_type": "stream",
     "text": [
      "LKIF\n"
     ]
    },
    {
     "data": {
      "image/png": "[encoded data removed]",
      "text/plain": [
       "<matplotlib.figure.Figure at 0x7f0622b3eda0>"
      ]
     },
     "metadata": {},
     "output_type": "display_data"
    },
    {
     "name": "stdout",
     "output_type": "stream",
     "text": [
      "YAGO\n"
     ]
    },
    {
     "data": {
      "image/png": "[encoded data removed]",
      "text/plain": [
       "<matplotlib.figure.Figure at 0x7f0622a8ea90>"
      ]
     },
     "metadata": {},
     "output_type": "display_data"
    },
    {
     "name": "stdout",
     "output_type": "stream",
     "text": [
      "URI\n"
     ]
    },
    {
     "data": {
      "image/png": "[encoded data removed]",
      "text/plain": [
       "<matplotlib.figure.Figure at 0x7f0615adfef0>"
      ]
     },
     "metadata": {},
     "output_type": "display_data"
    }
   ],
   "source": [
    "plot_joint_classes(echr_classes, evaluataion_classes)"
   ]
  },
  {
   "cell_type": "code",
   "execution_count": 149,
   "metadata": {
    "collapsed": false
   },
   "outputs": [
    {
     "data": {
      "text/plain": [
       "(1000,)"
      ]
     },
     "execution_count": 149,
     "metadata": {},
     "output_type": "execute_result"
    }
   ],
   "source": [
    "x, y = numpy.random.multivariate_normal([2, 6], [[0.2, 0], [0, 0.3]], 1000).T\n",
    "x.shape"
   ]
  },
  {
   "cell_type": "markdown",
   "metadata": {},
   "source": [
    "Comparison with Wikipedia classes\n",
    "---"
   ]
  },
  {
   "cell_type": "code",
   "execution_count": 97,
   "metadata": {
    "collapsed": true
   },
   "outputs": [],
   "source": [
    "with open('/home/ccardellino/datasets/classes.p', 'rb') as wiki_file:\n",
    "    wiki_classes = pickle.load(wiki_file)"
   ]
  },
  {
   "cell_type": "code",
   "execution_count": 98,
   "metadata": {
    "collapsed": false
   },
   "outputs": [
    {
     "name": "stdout",
     "output_type": "stream",
     "text": [
      "ENTITY\n",
      "\tMax recognized classes 6 of 6\n",
      "\tMax recognized instances 827 of 827\n",
      "\tMax possible accuracy 1.0\n",
      "NER\n",
      "\tMax recognized classes 2 of 2\n",
      "\tMax recognized instances 827 of 827\n",
      "\tMax possible accuracy 1.0\n",
      "YAGO\n",
      "\tMax recognized classes 10 of 46\n",
      "\tMax recognized instances 219 of 800\n",
      "\tMax possible accuracy 0.832080924855\n",
      "LKIF\n",
      "\tMax recognized classes 9 of 20\n",
      "\tMax recognized instances 443 of 812\n",
      "\tMax possible accuracy 0.893352601156\n",
      "URI\n",
      "\tMax recognized classes 3 of 18\n",
      "\tMax recognized instances 43 of 827\n",
      "\tMax possible accuracy 0.773410404624\n"
     ]
    }
   ],
   "source": [
    "compare_classes(evaluataion_classes, wiki_classes)"
   ]
  },
  {
   "cell_type": "code",
   "execution_count": 99,
   "metadata": {
    "collapsed": true
   },
   "outputs": [],
   "source": [
    "with open('/home/ccardellino/datasets/echr/annotated/evaluation/handcrafted/labels.pickle', 'rb') as wiki_file:\n",
    "    labels_echr = pickle.load(wiki_file)"
   ]
  },
  {
   "cell_type": "code",
   "execution_count": null,
   "metadata": {
    "collapsed": true
   },
   "outputs": [],
   "source": []
  }
 ],
 "metadata": {
  "anaconda-cloud": {},
  "kernelspec": {
   "display_name": "Python [conda env:env35]",
   "language": "python",
   "name": "conda-env-env35-py"
  },
  "language_info": {
   "codemirror_mode": {
    "name": "ipython",
    "version": 3
   },
   "file_extension": ".py",
   "mimetype": "text/x-python",
   "name": "python",
   "nbconvert_exporter": "python",
   "pygments_lexer": "ipython3",
   "version": "3.5.2"
  }
 },
 "nbformat": 4,
 "nbformat_minor": 1
}
