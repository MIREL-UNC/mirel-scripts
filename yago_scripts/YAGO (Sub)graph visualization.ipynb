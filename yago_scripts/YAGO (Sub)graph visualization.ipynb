{
 "cells": [
  {
   "cell_type": "code",
   "execution_count": 1,
   "metadata": {
    "collapsed": true
   },
   "outputs": [],
   "source": [
    "import utils"
   ]
  },
  {
   "cell_type": "code",
   "execution_count": 5,
   "metadata": {
    "collapsed": false
   },
   "outputs": [],
   "source": [
    "import pandas as pd\n",
    "import jinja2\n",
    "\n",
    "from collections import OrderedDict\n",
    "from json import dumps\n",
    "from ipywidgets import interact\n",
    "from IPython.html import widgets\n",
    "from IPython.display import display, display_pretty, Javascript, HTML\n",
    "from IPython.utils.traitlets import Any, Bool, Dict, List, Unicode\n",
    "from threading import Lock\n",
    "from urllib2 import urlopen\n"
   ]
  },
  {
   "cell_type": "code",
   "execution_count": 9,
   "metadata": {
    "collapsed": true
   },
   "outputs": [],
   "source": [
    "data = [('california', 1000),  ('nevada', 200), ('new york', 558)]"
   ]
  },
  {
   "cell_type": "code",
   "execution_count": 2,
   "metadata": {
    "collapsed": true
   },
   "outputs": [],
   "source": [
    "graph = utils.pickle_from_file('../../data/yago_hierarchy.pickle')"
   ]
  },
  {
   "cell_type": "code",
   "execution_count": 148,
   "metadata": {
    "collapsed": false
   },
   "outputs": [],
   "source": [
    "sorted_nodes = sorted(graph.nodes())\n",
    "nodes = [{\n",
    "            'name': str(x).replace('wordnet_', '').split('_')[:-1],\n",
    "            'root': len(graph.predecessors(x))\n",
    "    } for x in sorted_nodes]\n",
    "links = [{\n",
    "        'source': sorted_nodes.index(source),\n",
    "        'target': sorted_nodes.index(target)\n",
    "    } for source, target in graph.edges()]"
   ]
  },
  {
   "cell_type": "code",
   "execution_count": 149,
   "metadata": {
    "collapsed": false
   },
   "outputs": [
    {
     "data": {
      "application/javascript": [
       "require.config({\n",
       "    paths: {\n",
       "        d3: '//cdnjs.cloudflare.com/ajax/libs/d3/3.4.8/d3.min'\n",
       "    }\n",
       "});"
      ],
      "text/plain": [
       "<IPython.core.display.Javascript object>"
      ]
     },
     "metadata": {},
     "output_type": "display_data"
    }
   ],
   "source": [
    "%%javascript\n",
    "require.config({\n",
    "    paths: {\n",
    "        d3: '//cdnjs.cloudflare.com/ajax/libs/d3/3.4.8/d3.min'\n",
    "    }\n",
    "});"
   ]
  },
  {
   "cell_type": "code",
   "execution_count": 153,
   "metadata": {
    "collapsed": false
   },
   "outputs": [],
   "source": [
    "d3_template = jinja2.Template(\n",
    "    \"\"\"\n",
    "    // Based on http://bl.ocks.org/mbostock/3885304\n",
    "\n",
    "    require([\"d3\"], function(d3) {\n",
    "        var graph = {\n",
    "            'nodes': {{ nodes }},\n",
    "            'links': {{ links }}\n",
    "        };\n",
    "        \n",
    "        var zoom = d3.behavior.zoom()\n",
    "            .scaleExtent([-10, 10])\n",
    "            .on(\"zoom\", zoomed);\n",
    "\n",
    "        d3.select(\"#chart_d3 svg\").remove();\n",
    "\n",
    "        var width = 960,\n",
    "            height = 500;\n",
    "\n",
    "        var force = d3.layout.force()\n",
    "            .size([width, height])\n",
    "            .charge(-150)\n",
    "            .linkDistance(70)\n",
    "            .on(\"tick\", tick);\n",
    "\n",
    "        var drag = force.drag()\n",
    "            .on(\"dragstart\", dragstart);\n",
    "\n",
    "        var svg = d3.select(\"#chart_d3\").append(\"svg\")\n",
    "            .attr(\"width\", width)\n",
    "            .attr(\"height\", height)\n",
    "            .call(zoom);\n",
    "        \n",
    "        var container = svg.append(\"g\");\n",
    "        \n",
    "        // build the arrow.\n",
    "        container.append(\"svg:defs\").selectAll(\"marker\")\n",
    "            .data([\"end\"])      // Different link/path types can be defined here\n",
    "          .enter().append(\"svg:marker\")    // This section adds in the arrows\n",
    "            .attr(\"id\", String)\n",
    "            .attr(\"viewBox\", \"0 -5 10 10\")\n",
    "            .attr(\"refX\", 15)\n",
    "            .attr(\"refY\", -1.5)\n",
    "            .attr(\"markerWidth\", 3)\n",
    "            .attr(\"markerHeight\", 3)\n",
    "            .attr(\"orient\", \"auto\")\n",
    "          .append(\"svg:path\")\n",
    "            .attr(\"d\", \"M0,-5L10,0L0,5\");\n",
    "\n",
    "        var link = container.selectAll(\".link\"),\n",
    "            node = container.selectAll(\".node\");\n",
    "\n",
    "        force.nodes(graph.nodes)\n",
    "          .links(graph.links)\n",
    "          .start();\n",
    "\n",
    "        link = link.data(graph.links)\n",
    "          .enter().append(\"line\")\n",
    "            .attr(\"class\", \"link\")\n",
    "            .attr(\"marker-end\", \"url(#end)\");;\n",
    "\n",
    "        node = node.data(graph.nodes)\n",
    "            .enter().append(\"g\")\n",
    "              .attr(\"class\", \"node\")\n",
    "              .classed(\"root-node\", function(d) {return d.root == 0})\n",
    "              .call(force.drag);\n",
    "        \n",
    "        node.append(\"circle\")\n",
    "              .attr(\"class\", \"node\")\n",
    "              .attr(\"r\", 4)\n",
    "              .on(\"dblclick\", dblclick)\n",
    "        \n",
    "        node.append(\"text\")\n",
    "          .attr(\"dx\", 12)\n",
    "          .attr(\"dy\", \".18em\")\n",
    "          .text(function(d) { return d.name });\n",
    "\n",
    "        function tick() {\n",
    "          link.attr(\"x1\", function(d) { return d.source.x; })\n",
    "              .attr(\"y1\", function(d) { return d.source.y; })\n",
    "              .attr(\"x2\", function(d) { return d.target.x; })\n",
    "              .attr(\"y2\", function(d) { return d.target.y; });\n",
    "\n",
    "          node.attr(\"transform\", function(d) { return \"translate(\" + d.x + \",\" + d.y + \")\"; });\n",
    "        }\n",
    "\n",
    "        function dblclick(d) {\n",
    "          d3.select(this).classed(\"fixed\", d.fixed = false);\n",
    "        }\n",
    "\n",
    "        function dragstart(d) {\n",
    "          d3.select(this).classed(\"fixed\", d.fixed = true);\n",
    "        }\n",
    "        \n",
    "        function zoomed() {\n",
    "          container.attr(\"transform\", \"translate(\" + d3.event.translate + \")scale(\" + d3.event.scale + \")\");\n",
    "        }\n",
    "    });\n",
    "    \"\"\"\n",
    ")\n"
   ]
  },
  {
   "cell_type": "code",
   "execution_count": 154,
   "metadata": {
    "collapsed": false
   },
   "outputs": [
    {
     "data": {
      "text/html": [
       "\n",
       "    <style>\n",
       "        .link {\n",
       "          stroke: #ccc;\n",
       "          stroke-width: 1.5px;\n",
       "        }\n",
       "\n",
       "        .node {\n",
       "          cursor: move;\n",
       "          fill: #000;\n",
       "        }\n",
       "        \n",
       "        .node.root-node {\n",
       "          fill: blue;\n",
       "        }\n",
       "\n",
       "        .node.fixed {\n",
       "          fill: #f00;\n",
       "        }\n",
       "    </style>\n",
       "    <div id=\"chart_d3\"/>\n"
      ],
      "text/plain": [
       "<IPython.core.display.HTML object>"
      ]
     },
     "metadata": {},
     "output_type": "display_data"
    }
   ],
   "source": [
    "display(HTML(\"\"\"\n",
    "    <style>\n",
    "        .link {\n",
    "          stroke: #ccc;\n",
    "          stroke-width: 1.5px;\n",
    "        }\n",
    "\n",
    "        .node {\n",
    "          cursor: move;\n",
    "          fill: #000;\n",
    "        }\n",
    "        \n",
    "        .node.root-node {\n",
    "          fill: blue;\n",
    "        }\n",
    "\n",
    "        .node.fixed {\n",
    "          fill: #f00;\n",
    "        }\n",
    "    </style>\n",
    "    <div id=\"chart_d3\"/>\n",
    "\"\"\"))"
   ]
  },
  {
   "cell_type": "code",
   "execution_count": 155,
   "metadata": {
    "collapsed": false
   },
   "outputs": [
    {
     "data": {
      "application/javascript": [
       "\n",
       "    // Based on http://bl.ocks.org/mbostock/3885304\n",
       "\n",
       "    require([\"d3\"], function(d3) {\n",
       "        var graph = {\n",
       "            'nodes': [{'root': 1, 'name': ['accreditation']}, {'root': 1, 'name': ['accusation']}, {'root': 1, 'name': ['act']}, {'root': 1, 'name': ['advocate']}, {'root': 1, 'name': ['alcalde']}, {'root': 1, 'name': ['allegation']}, {'root': 1, 'name': ['appellate', 'court']}, {'root': 0, 'name': ['association']}, {'root': 0, 'name': ['authorization']}, {'root': 0, 'name': ['ban']}, {'root': 1, 'name': ['barrister']}, {'root': 1, 'name': ['baseball', 'league']}, {'root': 1, 'name': ['basketball', 'league']}, {'root': 1, 'name': ['bill']}, {'root': 1, 'name': ['bond']}, {'root': 1, 'name': ['broadcasting', 'company']}, {'root': 1, 'name': ['builder']}, {'root': 1, 'name': ['bull']}, {'root': 2, 'name': ['bus', 'company']}, {'root': 0, 'name': ['case', 'law']}, {'root': 1, 'name': ['certification']}, {'root': 1, 'name': ['chamber', 'of', 'commerce']}, {'root': 1, 'name': ['charge']}, {'root': 1, 'name': ['charity']}, {'root': 1, 'name': ['check']}, {'root': 1, 'name': ['chess', 'club']}, {'root': 1, 'name': ['chief', 'justice']}, {'root': 1, 'name': ['civil', 'law']}, {'root': 0, 'name': ['civil', 'liberty']}, {'root': 1, 'name': ['civil', 'right']}, {'root': 1, 'name': ['closed', 'corporation']}, {'root': 1, 'name': ['club']}, {'root': 0, 'name': ['code', 'of', 'conduct']}, {'root': 1, 'name': ['commercial', 'treaty']}, {'root': 0, 'name': ['common', 'law']}, {'root': 0, 'name': ['company']}, {'root': 1, 'name': ['concession']}, {'root': 1, 'name': ['consortium']}, {'root': 1, 'name': ['contract']}, {'root': 1, 'name': ['contractor']}, {'root': 1, 'name': ['contractor']}, {'root': 0, 'name': ['cooperative']}, {'root': 0, 'name': ['corporation']}, {'root': 0, 'name': ['court']}, {'root': 1, 'name': ['court', 'order']}, {'root': 1, 'name': ['criminal', 'law']}, {'root': 0, 'name': ['criminal', 'record']}, {'root': 1, 'name': ['decree']}, {'root': 1, 'name': ['defense', 'attorney']}, {'root': 0, 'name': ['delegating']}, {'root': 1, 'name': ['derivative', 'instrument']}, {'root': 0, 'name': ['directive']}, {'root': 1, 'name': ['district', 'attorney']}, {'root': 1, 'name': ['doge']}, {'root': 1, 'name': ['dot-com']}, {'root': 1, 'name': ['draft']}, {'root': 1, 'name': [\"driver's\", 'license']}, {'root': 1, 'name': ['drug', 'cartel']}, {'root': 1, 'name': ['drug', 'company']}, {'root': 1, 'name': ['electronics', 'company']}, {'root': 0, 'name': ['exemption']}, {'root': 1, 'name': ['family']}, {'root': 1, 'name': ['family', 'business']}, {'root': 1, 'name': ['federal', 'court']}, {'root': 1, 'name': ['film', 'company']}, {'root': 1, 'name': ['food', 'company']}, {'root': 1, 'name': ['football', 'league']}, {'root': 0, 'name': ['foundation']}, {'root': 1, 'name': ['franchise']}, {'root': 1, 'name': ['fraternity']}, {'root': 1, 'name': ['fundamental', 'law']}, {'root': 1, 'name': ['furniture', 'company']}, {'root': 1, 'name': ['gang']}, {'root': 1, 'name': ['gas', 'company']}, {'root': 1, 'name': ['glee', 'club']}, {'root': 1, 'name': ['golf', 'club']}, {'root': 1, 'name': ['government', 'bond']}, {'root': 1, 'name': ['hockey', 'league']}, {'root': 1, 'name': ['holding', 'company']}, {'root': 1, 'name': ['human', 'right']}, {'root': 1, 'name': ['imperial', 'decree']}, {'root': 0, 'name': ['indebtedness']}, {'root': 1, 'name': ['institute']}, {'root': 0, 'name': ['interdiction']}, {'root': 0, 'name': ['judge']}, {'root': 0, 'name': ['judiciary']}, {'root': 1, 'name': ['justiciar']}, {'root': 1, 'name': ['kite']}, {'root': 1, 'name': ['law']}, {'root': 0, 'name': ['law']}, {'root': 0, 'name': ['lawyer']}, {'root': 1, 'name': ['league']}, {'root': 0, 'name': ['legal', 'code']}, {'root': 0, 'name': ['legal', 'document']}, {'root': 1, 'name': ['legislation']}, {'root': 1, 'name': ['legislative', 'act']}, {'root': 0, 'name': ['legislature']}, {'root': 0, 'name': ['liability']}, {'root': 0, 'name': ['liberty']}, {'root': 0, 'name': ['liberty']}, {'root': 1, 'name': ['license']}, {'root': 0, 'name': ['limited', 'company']}, {'root': 1, 'name': ['litigant']}, {'root': 1, 'name': ['livery', 'company']}, {'root': 1, 'name': ['magistrate']}, {'root': 1, 'name': ['mandate']}, {'root': 1, 'name': ['military', 'court']}, {'root': 1, 'name': ['mining', 'company']}, {'root': 1, 'name': ['money', 'order']}, {'root': 1, 'name': ['mover']}, {'root': 1, 'name': ['negotiable', 'instrument']}, {'root': 0, 'name': ['obligation']}, {'root': 1, 'name': ['oil', 'company']}, {'root': 1, 'name': ['option']}, {'root': 1, 'name': ['ordinary']}, {'root': 1, 'name': ['packaging', 'company']}, {'root': 1, 'name': ['parliament']}, {'root': 0, 'name': ['party']}, {'root': 1, 'name': ['pass']}, {'root': 1, 'name': ['peace']}, {'root': 0, 'name': ['permission']}, {'root': 1, 'name': ['pipeline', 'company']}, {'root': 0, 'name': ['pleading']}, {'root': 1, 'name': ['poor', 'law']}, {'root': 1, 'name': ['power', 'company']}, {'root': 1, 'name': ['praetor']}, {'root': 0, 'name': ['prerogative']}, {'root': 1, 'name': ['printing', 'concern']}, {'root': 0, 'name': ['privilege']}, {'root': 0, 'name': ['privilege']}, {'root': 1, 'name': ['probate', 'court']}, {'root': 0, 'name': ['proclamation']}, {'root': 1, 'name': ['professional', 'association']}, {'root': 1, 'name': ['prohibition']}, {'root': 1, 'name': ['prosecutor']}, {'root': 1, 'name': ['public', 'defender']}, {'root': 1, 'name': ['racket', 'club']}, {'root': 0, 'name': ['right']}, {'root': 0, 'name': ['right']}, {'root': 0, 'name': ['right']}, {'root': 1, 'name': ['rowing', 'club']}, {'root': 1, 'name': ['secret', 'society']}, {'root': 1, 'name': ['security']}, {'root': 1, 'name': ['senate']}, {'root': 1, 'name': ['serjeant-at-law']}, {'root': 1, 'name': ['service']}, {'root': 1, 'name': ['shipping', 'company']}, {'root': 1, 'name': ['sorority']}, {'root': 1, 'name': [\"state's\", 'attorney']}, {'root': 1, 'name': ['statute', 'of', 'limitations']}, {'root': 1, 'name': ['steel', 'company']}, {'root': 1, 'name': ['subsidiary', 'company']}, {'root': 1, 'name': ['superior', 'court']}, {'root': 1, 'name': ['supreme', 'court']}, {'root': 1, 'name': ['telephone', 'company']}, {'root': 1, 'name': ['tennis', 'club']}, {'root': 1, 'name': ['think', 'tank']}, {'root': 1, 'name': ['transportation', 'company']}, {'root': 1, 'name': ['treaty']}, {'root': 1, 'name': ['trial', 'attorney']}, {'root': 1, 'name': ['trial', 'judge']}, {'root': 1, 'name': ['trucking', 'company']}, {'root': 1, 'name': ['trust']}, {'root': 1, 'name': ['utility']}, {'root': 1, 'name': ['warrant']}, {'root': 1, 'name': ['water', 'company']}, {'root': 1, 'name': ['writ']}, {'root': 1, 'name': ['written', 'agreement']}, {'root': 1, 'name': ['yacht', 'club']}],\n",
       "            'links': [{'source': 166, 'target': 164}, {'source': 166, 'target': 44}, {'source': 142, 'target': 14}, {'source': 37, 'target': 162}, {'source': 92, 'target': 45}, {'source': 38, 'target': 36}, {'source': 1, 'target': 5}, {'source': 67, 'target': 23}, {'source': 146, 'target': 161}, {'source': 138, 'target': 79}, {'source': 157, 'target': 18}, {'source': 20, 'target': 0}, {'source': 31, 'target': 140}, {'source': 31, 'target': 147}, {'source': 31, 'target': 69}, {'source': 31, 'target': 168}, {'source': 31, 'target': 136}, {'source': 31, 'target': 74}, {'source': 31, 'target': 25}, {'source': 31, 'target': 75}, {'source': 90, 'target': 3}, {'source': 90, 'target': 134}, {'source': 90, 'target': 48}, {'source': 90, 'target': 159}, {'source': 90, 'target': 10}, {'source': 90, 'target': 135}, {'source': 7, 'target': 91}, {'source': 7, 'target': 72}, {'source': 7, 'target': 82}, {'source': 7, 'target': 141}, {'source': 7, 'target': 132}, {'source': 7, 'target': 61}, {'source': 7, 'target': 37}, {'source': 7, 'target': 31}, {'source': 7, 'target': 21}, {'source': 36, 'target': 68}, {'source': 162, 'target': 57}, {'source': 79, 'target': 29}, {'source': 55, 'target': 24}, {'source': 55, 'target': 108}, {'source': 50, 'target': 113}, {'source': 110, 'target': 55}, {'source': 91, 'target': 66}, {'source': 91, 'target': 77}, {'source': 91, 'target': 11}, {'source': 91, 'target': 12}, {'source': 30, 'target': 62}, {'source': 14, 'target': 76}, {'source': 136, 'target': 155}, {'source': 145, 'target': 163}, {'source': 158, 'target': 119}, {'source': 158, 'target': 33}, {'source': 43, 'target': 152}, {'source': 43, 'target': 153}, {'source': 43, 'target': 106}, {'source': 43, 'target': 6}, {'source': 43, 'target': 130}, {'source': 43, 'target': 63}, {'source': 24, 'target': 87}, {'source': 42, 'target': 30}, {'source': 40, 'target': 16}, {'source': 163, 'target': 165}, {'source': 163, 'target': 18}, {'source': 163, 'target': 73}, {'source': 163, 'target': 124}, {'source': 163, 'target': 154}, {'source': 167, 'target': 158}, {'source': 167, 'target': 38}, {'source': 122, 'target': 22}, {'source': 134, 'target': 52}, {'source': 134, 'target': 148}, {'source': 100, 'target': 56}, {'source': 10, 'target': 144}, {'source': 27, 'target': 94}, {'source': 16, 'target': 39}, {'source': 117, 'target': 40}, {'source': 117, 'target': 102}, {'source': 35, 'target': 64}, {'source': 35, 'target': 150}, {'source': 35, 'target': 157}, {'source': 35, 'target': 112}, {'source': 35, 'target': 54}, {'source': 35, 'target': 58}, {'source': 35, 'target': 151}, {'source': 35, 'target': 156}, {'source': 35, 'target': 71}, {'source': 35, 'target': 107}, {'source': 35, 'target': 59}, {'source': 35, 'target': 127}, {'source': 35, 'target': 78}, {'source': 35, 'target': 15}, {'source': 35, 'target': 145}, {'source': 35, 'target': 103}, {'source': 35, 'target': 109}, {'source': 35, 'target': 146}, {'source': 35, 'target': 115}, {'source': 35, 'target': 65}, {'source': 35, 'target': 121}, {'source': 88, 'target': 70}, {'source': 88, 'target': 149}, {'source': 88, 'target': 123}, {'source': 89, 'target': 27}, {'source': 120, 'target': 118}, {'source': 84, 'target': 160}, {'source': 84, 'target': 114}, {'source': 84, 'target': 26}, {'source': 84, 'target': 53}, {'source': 84, 'target': 125}, {'source': 84, 'target': 4}, {'source': 84, 'target': 86}, {'source': 84, 'target': 104}, {'source': 22, 'target': 1}, {'source': 47, 'target': 133}, {'source': 47, 'target': 17}, {'source': 47, 'target': 80}, {'source': 93, 'target': 167}, {'source': 93, 'target': 88}, {'source': 93, 'target': 166}, {'source': 93, 'target': 142}, {'source': 93, 'target': 2}, {'source': 93, 'target': 13}, {'source': 93, 'target': 110}, {'source': 93, 'target': 50}, {'source': 93, 'target': 105}, {'source': 93, 'target': 100}, {'source': 2, 'target': 95}, {'source': 2, 'target': 47}, {'source': 8, 'target': 20}, {'source': 96, 'target': 116}, {'source': 96, 'target': 143}]\n",
       "        };\n",
       "        \n",
       "        var zoom = d3.behavior.zoom()\n",
       "            .scaleExtent([-10, 10])\n",
       "            .on(\"zoom\", zoomed);\n",
       "\n",
       "        d3.select(\"#chart_d3 svg\").remove();\n",
       "\n",
       "        var width = 960,\n",
       "            height = 500;\n",
       "\n",
       "        var force = d3.layout.force()\n",
       "            .size([width, height])\n",
       "            .charge(-150)\n",
       "            .linkDistance(70)\n",
       "            .on(\"tick\", tick);\n",
       "\n",
       "        var drag = force.drag()\n",
       "            .on(\"dragstart\", dragstart);\n",
       "\n",
       "        var svg = d3.select(\"#chart_d3\").append(\"svg\")\n",
       "            .attr(\"width\", width)\n",
       "            .attr(\"height\", height)\n",
       "            .call(zoom);\n",
       "        \n",
       "        var container = svg.append(\"g\");\n",
       "        \n",
       "        // build the arrow.\n",
       "        container.append(\"svg:defs\").selectAll(\"marker\")\n",
       "            .data([\"end\"])      // Different link/path types can be defined here\n",
       "          .enter().append(\"svg:marker\")    // This section adds in the arrows\n",
       "            .attr(\"id\", String)\n",
       "            .attr(\"viewBox\", \"0 -5 10 10\")\n",
       "            .attr(\"refX\", 15)\n",
       "            .attr(\"refY\", -1.5)\n",
       "            .attr(\"markerWidth\", 3)\n",
       "            .attr(\"markerHeight\", 3)\n",
       "            .attr(\"orient\", \"auto\")\n",
       "          .append(\"svg:path\")\n",
       "            .attr(\"d\", \"M0,-5L10,0L0,5\");\n",
       "\n",
       "        var link = container.selectAll(\".link\"),\n",
       "            node = container.selectAll(\".node\");\n",
       "\n",
       "        force.nodes(graph.nodes)\n",
       "          .links(graph.links)\n",
       "          .start();\n",
       "\n",
       "        link = link.data(graph.links)\n",
       "          .enter().append(\"line\")\n",
       "            .attr(\"class\", \"link\")\n",
       "            .attr(\"marker-end\", \"url(#end)\");;\n",
       "\n",
       "        node = node.data(graph.nodes)\n",
       "            .enter().append(\"g\")\n",
       "              .attr(\"class\", \"node\")\n",
       "              .classed(\"root-node\", function(d) {return d.root == 0})\n",
       "              .call(force.drag);\n",
       "        \n",
       "        node.append(\"circle\")\n",
       "              .attr(\"class\", \"node\")\n",
       "              .attr(\"r\", 4)\n",
       "              .on(\"dblclick\", dblclick)\n",
       "        \n",
       "        node.append(\"text\")\n",
       "          .attr(\"dx\", 12)\n",
       "          .attr(\"dy\", \".18em\")\n",
       "          .text(function(d) { return d.name });\n",
       "\n",
       "        function tick() {\n",
       "          link.attr(\"x1\", function(d) { return d.source.x; })\n",
       "              .attr(\"y1\", function(d) { return d.source.y; })\n",
       "              .attr(\"x2\", function(d) { return d.target.x; })\n",
       "              .attr(\"y2\", function(d) { return d.target.y; });\n",
       "\n",
       "          node.attr(\"transform\", function(d) { return \"translate(\" + d.x + \",\" + d.y + \")\"; });\n",
       "        }\n",
       "\n",
       "        function dblclick(d) {\n",
       "          d3.select(this).classed(\"fixed\", d.fixed = false);\n",
       "        }\n",
       "\n",
       "        function dragstart(d) {\n",
       "          d3.select(this).classed(\"fixed\", d.fixed = true);\n",
       "        }\n",
       "        \n",
       "        function zoomed() {\n",
       "          container.attr(\"transform\", \"translate(\" + d3.event.translate + \")scale(\" + d3.event.scale + \")\");\n",
       "        }\n",
       "    });\n",
       "    "
      ],
      "text/plain": [
       "<IPython.core.display.Javascript object>"
      ]
     },
     "metadata": {},
     "output_type": "display_data"
    }
   ],
   "source": [
    "display(Javascript(d3_template.render(nodes=nodes, links=links)))"
   ]
  },
  {
   "cell_type": "code",
   "execution_count": null,
   "metadata": {
    "collapsed": true
   },
   "outputs": [],
   "source": []
  }
 ],
 "metadata": {
  "kernelspec": {
   "display_name": "Python 2",
   "language": "python",
   "name": "python2"
  },
  "language_info": {
   "codemirror_mode": {
    "name": "ipython",
    "version": 2
   },
   "file_extension": ".py",
   "mimetype": "text/x-python",
   "name": "python",
   "nbconvert_exporter": "python",
   "pygments_lexer": "ipython2",
   "version": "2.7.9"
  }
 },
 "nbformat": 4,
 "nbformat_minor": 2
}
