{
 "cells": [
  {
   "cell_type": "code",
   "execution_count": 1,
   "metadata": {
    "collapsed": true
   },
   "outputs": [],
   "source": [
    "%matplotlib inline\n",
    "import matplotlib.pyplot as plt\n",
    "import networkx\n",
    "import utils"
   ]
  },
  {
   "cell_type": "code",
   "execution_count": 2,
   "metadata": {
    "collapsed": true
   },
   "outputs": [],
   "source": [
    "from collections import defaultdict\n",
    "from tqdm import tqdm"
   ]
  },
  {
   "cell_type": "code",
   "execution_count": 3,
   "metadata": {
    "collapsed": true
   },
   "outputs": [],
   "source": [
    "CATEGORIES = [\n",
    "    \"wordnet_association_108049401\",\n",
    "    \"wordnet_authorization_101138670\",\n",
    "    \"wordnet_ban_107255401\",\n",
    "    \"wordnet_case_law_106535035\",\n",
    "    \"wordnet_civil_liberty_113995662\",\n",
    "    \"wordnet_code_of_conduct_105668095\",\n",
    "    \"wordnet_common_law_108453722\",\n",
    "    \"wordnet_company_108058098\",\n",
    "    \"wordnet_contract_106520944\",\n",
    "    \"wordnet_cooperative_101100877\",\n",
    "    \"wordnet_corporation_108059412\",\n",
    "    \"wordnet_court_108329453\",\n",
    "    \"wordnet_criminal_record_106490173\",\n",
    "    \"wordnet_decree_106539770\",\n",
    "    \"wordnet_delegating_101140839\",\n",
    "    \"wordnet_directive_107170080\",\n",
    "    \"wordnet_exemption_100213903\",\n",
    "    \"wordnet_foundation_108406486\",\n",
    "    \"wordnet_indebtedness_114490319\",\n",
    "    \"wordnet_interdiction_107255299\",\n",
    "    \"wordnet_judge_110225219\",\n",
    "    \"wordnet_judiciary_108166187\",\n",
    "    \"wordnet_law_106532330\",\n",
    "    \"wordnet_law_108441203\",\n",
    "    \"wordnet_lawyer_110249950\",\n",
    "    \"wordnet_legal_code_106667792\",\n",
    "    \"wordnet_legal_document_106479665\",\n",
    "    \"wordnet_legislation_106535222\",\n",
    "    \"wordnet_legislative_act_106564387\",\n",
    "    \"wordnet_legislature_108163273\",\n",
    "    \"wordnet_liability_114530403\",\n",
    "    \"wordnet_liberty_113994456\",\n",
    "    \"wordnet_liberty_113996061\",\n",
    "    \"wordnet_limited_company_108185211\",\n",
    "    \"wordnet_mandate_106556481\",\n",
    "    \"wordnet_obligation_106773150\",\n",
    "    \"wordnet_party_110402824\",\n",
    "    \"wordnet_permission_106689297\",\n",
    "    \"wordnet_pleading_106559365\",\n",
    "    \"wordnet_prerogative_105178715\",\n",
    "    \"wordnet_privilege_105158296\",\n",
    "    \"wordnet_privilege_105179567\",\n",
    "    \"wordnet_proclamation_101266491\",\n",
    "    \"wordnet_prohibition_106542047\",\n",
    "    \"wordnet_right_104850341\",\n",
    "    \"wordnet_right_105174653\",\n",
    "    \"wordnet_right_113341756\",\n",
    "    \"wordnet_treaty_106773434\",\n",
    "    \"wordnet_written_agreement_106771653\",\n",
    "]"
   ]
  },
  {
   "cell_type": "code",
   "execution_count": 4,
   "metadata": {
    "collapsed": true
   },
   "outputs": [],
   "source": [
    "RESOURCE_PREFIX = 'http://yago-knowledge.org/resource/'"
   ]
  },
  {
   "cell_type": "code",
   "execution_count": 5,
   "metadata": {
    "collapsed": false
   },
   "outputs": [],
   "source": [
    "def get_subclasses_number(category_name, filter_wikicat=False):\n",
    "    query = \"\"\"SELECT DISTINCT (count(distinct ?subCategory) as ?count) WHERE {\n",
    "        ?subCategory rdfs:subClassOf <%s%s> .\n",
    "        ?entity rdf:type ?subCategory .\"\"\" % (RESOURCE_PREFIX, category_name)\n",
    "    if filter_wikicat:\n",
    "        query += 'FILTER (!regex(str(?subCategory), \"wikicat\"))}'\n",
    "    else:\n",
    "        query += '}'\n",
    "    response = utils.query_sparql(query, utils.YAGO_ENPOINT_URL)\n",
    "    return response[1][0]"
   ]
  },
  {
   "cell_type": "code",
   "execution_count": 104,
   "metadata": {
    "collapsed": false,
    "scrolled": true
   },
   "outputs": [
    {
     "name": "stdout",
     "output_type": "stream",
     "text": [
      "wordnet_association_108049401 208 9\n",
      "wordnet_authorization_101138670 1 1\n",
      "wordnet_ban_107255401 0 0\n",
      "wordnet_case_law_106535035 0 0\n",
      "wordnet_civil_liberty_113995662 1 0\n",
      "wordnet_code_of_conduct_105668095 1 0\n",
      "wordnet_common_law_108453722 0 0\n",
      "wordnet_company_108058098 8411 21\n",
      "wordnet_contract_106520944 2 1\n",
      "wordnet_cooperative_101100877 62 0\n",
      "wordnet_corporation_108059412 52 1\n",
      "wordnet_court_108329453 166 6\n",
      "wordnet_criminal_record_106490173 1 0\n",
      "wordnet_decree_106539770 3 3\n",
      "wordnet_delegating_101140839 0 0\n",
      "wordnet_directive_107170080 4 0\n",
      "wordnet_exemption_100213903 0 0\n",
      "wordnet_foundation_108406486 1 1\n",
      "wordnet_indebtedness_114490319 0 0\n",
      "wordnet_interdiction_107255299 0 0\n",
      "wordnet_judge_110225219 811 8\n",
      "wordnet_judiciary_108166187 3 0\n",
      "wordnet_law_106532330 3 3\n",
      "wordnet_law_108441203 70 1\n",
      "wordnet_lawyer_110249950 463 6\n",
      "wordnet_legal_code_106667792 6 1\n",
      "wordnet_legal_document_106479665 19 10\n",
      "wordnet_legislation_106535222 0 0\n",
      "wordnet_legislative_act_106564387 28 0\n",
      "wordnet_legislature_108163273 44 2\n",
      "wordnet_liability_114530403 0 0\n",
      "wordnet_liberty_113994456 0 0\n",
      "wordnet_liberty_113996061 0 0\n",
      "wordnet_limited_company_108185211 0 0\n",
      "wordnet_mandate_106556481 2 0\n",
      "wordnet_obligation_106773150 0 0\n",
      "wordnet_party_110402824 2 2\n",
      "wordnet_permission_106689297 1 1\n",
      "wordnet_pleading_106559365 1 1\n",
      "wordnet_prerogative_105178715 0 0\n",
      "wordnet_privilege_105158296 1 0\n",
      "wordnet_privilege_105179567 0 0\n",
      "wordnet_proclamation_101266491 0 0\n",
      "wordnet_prohibition_106542047 3 0\n",
      "wordnet_right_104850341 0 0\n",
      "wordnet_right_105174653 201 1\n",
      "wordnet_right_113341756 0 0\n",
      "wordnet_treaty_106773434 1322 2\n",
      "wordnet_written_agreement_106771653 2 2\n"
     ]
    }
   ],
   "source": [
    "for category in CATEGORIES:\n",
    "    print category, get_subclasses_number(category), get_subclasses_number(category, True)"
   ]
  },
  {
   "cell_type": "code",
   "execution_count": 7,
   "metadata": {
    "collapsed": true
   },
   "outputs": [],
   "source": [
    "def build_graph(subcategories_map, levels):\n",
    "    graph = networkx.DiGraph()\n",
    "    assert subcategories_map.keys() == levels.keys()\n",
    "    graph.add_nodes_from(subcategories_map.keys())\n",
    "    for category, level in subcategories_map.items():\n",
    "        for children in subcategories_map[category]:\n",
    "            assert children in subcategories_map.keys()\n",
    "            if levels[category] == levels[children] - 1 or levels[category] == levels[children]:\n",
    "                graph.add_edge(category, children)\n",
    "            else:\n",
    "                print 'Error, node pointing to lower level'\n",
    "    return graph"
   ]
  },
  {
   "cell_type": "code",
   "execution_count": 8,
   "metadata": {
    "collapsed": false,
    "scrolled": true
   },
   "outputs": [
    {
     "name": "stderr",
     "output_type": "stream",
     "text": [
      "100%|██████████| 49/49 [01:08<00:00,  1.41s/it]\n"
     ]
    }
   ],
   "source": [
    "subcategories = defaultdict(list)\n",
    "levels = defaultdict(int)\n",
    "for category in tqdm(CATEGORIES):\n",
    "    utils.get_subcategories(category, subcategories, levels)"
   ]
  },
  {
   "cell_type": "code",
   "execution_count": 23,
   "metadata": {
    "collapsed": false
   },
   "outputs": [],
   "source": [
    "def print_graph(graph):\n",
    "    networkx.draw_spring(graph, with_labels=False)\n",
    "    plt.draw()"
   ]
  },
  {
   "cell_type": "code",
   "execution_count": 24,
   "metadata": {
    "collapsed": false
   },
   "outputs": [
    {
     "data": {
      "image/png": "[encoded data removed]",
      "text/plain": [
       "<matplotlib.figure.Figure at 0x7f5f91882710>"
      ]
     },
     "metadata": {},
     "output_type": "display_data"
    }
   ],
   "source": [
    "graph = build_graph(subcategories, levels)\n",
    "print_graph(graph)"
   ]
  },
  {
   "cell_type": "code",
   "execution_count": 25,
   "metadata": {
    "collapsed": false
   },
   "outputs": [
    {
     "data": {
      "text/plain": [
       "defaultdict(list,\n",
       "            {u'wordnet_act_106532095': [],\n",
       "             u'wordnet_advocate_109775663': [],\n",
       "             u'wordnet_alcalde_109781804': [],\n",
       "             u'wordnet_appellate_court_108330106': [],\n",
       "             'wordnet_association_108049401': [u'wordnet_professional_association_108242675',\n",
       "              u'wordnet_institute_108407330',\n",
       "              u'wordnet_club_108227214',\n",
       "              u'wordnet_chamber_of_commerce_108319061',\n",
       "              u'wordnet_family_108227916',\n",
       "              u'wordnet_consortium_108236438',\n",
       "              u'wordnet_league_108231184',\n",
       "              u'wordnet_secret_society_108235343',\n",
       "              u'wordnet_gang_108244062'],\n",
       "             'wordnet_authorization_101138670': [u'wordnet_certification_101139830'],\n",
       "             u'wordnet_barrister_109840963': [],\n",
       "             u'wordnet_bill_106536853': [],\n",
       "             u'wordnet_broadcasting_company_108002015': [],\n",
       "             u'wordnet_bull_106726761': [],\n",
       "             u'wordnet_certification_101139830': [],\n",
       "             u'wordnet_chamber_of_commerce_108319061': [],\n",
       "             u'wordnet_charge_106561942': [],\n",
       "             u'wordnet_charity_108406619': [],\n",
       "             u'wordnet_chief_justice_109916788': [],\n",
       "             u'wordnet_civil_law_108453464': [],\n",
       "             u'wordnet_closed_corporation_108383690': [],\n",
       "             u'wordnet_club_108227214': [],\n",
       "             u'wordnet_commercial_treaty_106773857': [],\n",
       "             'wordnet_company_108058098': [u'wordnet_food_company_108003427',\n",
       "              u'wordnet_mover_108478482',\n",
       "              u'wordnet_livery_company_108186898',\n",
       "              u'wordnet_drug_company_108002578',\n",
       "              u'wordnet_oil_company_108069241',\n",
       "              u'wordnet_shipping_company_108003717',\n",
       "              u'wordnet_film_company_108003173',\n",
       "              u'wordnet_transportation_company_108004089',\n",
       "              u'wordnet_holding_company_108185369',\n",
       "              u'wordnet_packaging_company_108069342',\n",
       "              u'wordnet_printing_concern_108069627',\n",
       "              u'wordnet_subsidiary_company_108003935',\n",
       "              u'wordnet_broadcasting_company_108002015',\n",
       "              u'wordnet_electronics_company_108003035',\n",
       "              u'wordnet_furniture_company_108003525',\n",
       "              u'wordnet_service_108186047',\n",
       "              u'wordnet_mining_company_108003619',\n",
       "              u'wordnet_pipeline_company_108069487',\n",
       "              u'wordnet_think_tank_108478702',\n",
       "              u'wordnet_dot-com_108002384',\n",
       "              u'wordnet_steel_company_108003839'],\n",
       "             u'wordnet_concession_106526619': [],\n",
       "             u'wordnet_consortium_108236438': [],\n",
       "             'wordnet_contract_106520944': [u'wordnet_concession_106526619'],\n",
       "             u'wordnet_contractor_109960891': [],\n",
       "             'wordnet_corporation_108059412': [u'wordnet_closed_corporation_108383690'],\n",
       "             'wordnet_court_108329453': [u'wordnet_supreme_court_108336188',\n",
       "              u'wordnet_superior_court_108335751',\n",
       "              u'wordnet_appellate_court_108330106',\n",
       "              u'wordnet_federal_court_108332330',\n",
       "              u'wordnet_probate_court_108335087',\n",
       "              u'wordnet_military_court_108334087'],\n",
       "             u'wordnet_criminal_law_106539178': [],\n",
       "             'wordnet_decree_106539770': [u'wordnet_prohibition_106542047',\n",
       "              u'wordnet_bull_106726761',\n",
       "              u'wordnet_imperial_decree_106541167'],\n",
       "             u'wordnet_defense_attorney_110000158': [],\n",
       "             u'wordnet_derivative_instrument_106480506': [],\n",
       "             u'wordnet_doge_110023264': [],\n",
       "             u'wordnet_dot-com_108002384': [],\n",
       "             u'wordnet_drug_company_108002578': [],\n",
       "             u'wordnet_electronics_company_108003035': [],\n",
       "             u'wordnet_family_108227916': [],\n",
       "             u'wordnet_federal_court_108332330': [],\n",
       "             u'wordnet_film_company_108003173': [],\n",
       "             u'wordnet_food_company_108003427': [],\n",
       "             'wordnet_foundation_108406486': [u'wordnet_charity_108406619'],\n",
       "             u'wordnet_fundamental_law_106533648': [],\n",
       "             u'wordnet_furniture_company_108003525': [],\n",
       "             u'wordnet_gang_108244062': [],\n",
       "             u'wordnet_holding_company_108185369': [],\n",
       "             u'wordnet_human_right_105176846': [],\n",
       "             u'wordnet_imperial_decree_106541167': [],\n",
       "             u'wordnet_institute_108407330': [],\n",
       "             'wordnet_judge_110225219': [u'wordnet_ordinary_110382380',\n",
       "              u'wordnet_trial_judge_110728523',\n",
       "              u'wordnet_magistrate_110280945',\n",
       "              u'wordnet_praetor_110463028',\n",
       "              u'wordnet_chief_justice_109916788',\n",
       "              u'wordnet_doge_110023264',\n",
       "              u'wordnet_alcalde_109781804',\n",
       "              u'wordnet_justiciar_110228592'],\n",
       "             u'wordnet_justiciar_110228592': [],\n",
       "             'wordnet_law_106532330': [],\n",
       "             'wordnet_law_108441203': [u'wordnet_civil_law_108453464'],\n",
       "             'wordnet_lawyer_110249950': [u'wordnet_public_defender_110490557',\n",
       "              u'wordnet_advocate_109775663',\n",
       "              u'wordnet_barrister_109840963',\n",
       "              u'wordnet_prosecutor_110484858',\n",
       "              u'wordnet_defense_attorney_110000158',\n",
       "              u'wordnet_trial_attorney_110728361'],\n",
       "             u'wordnet_league_108231184': [],\n",
       "             'wordnet_legal_code_106667792': [u'wordnet_criminal_law_106539178'],\n",
       "             'wordnet_legal_document_106479665': [u'wordnet_written_agreement_106771653',\n",
       "              u'wordnet_negotiable_instrument_106481156',\n",
       "              u'wordnet_law_106532330',\n",
       "              u'wordnet_license_106549661',\n",
       "              u'wordnet_bill_106536853',\n",
       "              u'wordnet_writ_106552984',\n",
       "              u'wordnet_act_106532095',\n",
       "              u'wordnet_security_113416345',\n",
       "              u'wordnet_mandate_106556481',\n",
       "              u'wordnet_derivative_instrument_106480506'],\n",
       "             'wordnet_legislature_108163273': [u'wordnet_parliament_108319198',\n",
       "              u'wordnet_senate_108161477'],\n",
       "             u'wordnet_license_106549661': [],\n",
       "             u'wordnet_litigant_110266848': [],\n",
       "             u'wordnet_livery_company_108186898': [],\n",
       "             u'wordnet_magistrate_110280945': [],\n",
       "             u'wordnet_mandate_106556481': [],\n",
       "             u'wordnet_military_court_108334087': [],\n",
       "             u'wordnet_mining_company_108003619': [],\n",
       "             u'wordnet_mover_108478482': [],\n",
       "             u'wordnet_negotiable_instrument_106481156': [],\n",
       "             u'wordnet_oil_company_108069241': [],\n",
       "             u'wordnet_ordinary_110382380': [],\n",
       "             u'wordnet_packaging_company_108069342': [],\n",
       "             u'wordnet_parliament_108319198': [],\n",
       "             'wordnet_party_110402824': [u'wordnet_contractor_109960891',\n",
       "              u'wordnet_litigant_110266848'],\n",
       "             u'wordnet_pass_106691083': [],\n",
       "             u'wordnet_peace_106773976': [],\n",
       "             'wordnet_permission_106689297': [u'wordnet_pass_106691083'],\n",
       "             u'wordnet_pipeline_company_108069487': [],\n",
       "             'wordnet_pleading_106559365': [u'wordnet_charge_106561942'],\n",
       "             u'wordnet_poor_law_106538785': [],\n",
       "             u'wordnet_praetor_110463028': [],\n",
       "             u'wordnet_printing_concern_108069627': [],\n",
       "             u'wordnet_probate_court_108335087': [],\n",
       "             u'wordnet_professional_association_108242675': [],\n",
       "             u'wordnet_prohibition_106542047': [],\n",
       "             u'wordnet_prosecutor_110484858': [],\n",
       "             u'wordnet_public_defender_110490557': [],\n",
       "             'wordnet_right_105174653': [u'wordnet_human_right_105176846'],\n",
       "             u'wordnet_secret_society_108235343': [],\n",
       "             u'wordnet_security_113416345': [],\n",
       "             u'wordnet_senate_108161477': [],\n",
       "             u'wordnet_service_108186047': [],\n",
       "             u'wordnet_shipping_company_108003717': [],\n",
       "             u'wordnet_statute_of_limitations_106533484': [],\n",
       "             u'wordnet_steel_company_108003839': [],\n",
       "             u'wordnet_subsidiary_company_108003935': [],\n",
       "             u'wordnet_superior_court_108335751': [],\n",
       "             u'wordnet_supreme_court_108336188': [],\n",
       "             u'wordnet_think_tank_108478702': [],\n",
       "             u'wordnet_transportation_company_108004089': [],\n",
       "             'wordnet_treaty_106773434': [u'wordnet_peace_106773976',\n",
       "              u'wordnet_commercial_treaty_106773857'],\n",
       "             u'wordnet_trial_attorney_110728361': [],\n",
       "             u'wordnet_trial_judge_110728523': [],\n",
       "             u'wordnet_writ_106552984': [],\n",
       "             u'wordnet_written_agreement_106771653': []})"
      ]
     },
     "execution_count": 25,
     "metadata": {},
     "output_type": "execute_result"
    }
   ],
   "source": [
    "subcategories"
   ]
  },
  {
   "cell_type": "code",
   "execution_count": 119,
   "metadata": {
    "collapsed": false
   },
   "outputs": [
    {
     "data": {
      "text/plain": [
       "'1.11'"
      ]
     },
     "execution_count": 119,
     "metadata": {},
     "output_type": "execute_result"
    }
   ],
   "source": [
    "networkx.__version__"
   ]
  },
  {
   "cell_type": "code",
   "execution_count": null,
   "metadata": {
    "collapsed": true
   },
   "outputs": [],
   "source": []
  }
 ],
 "metadata": {
  "kernelspec": {
   "display_name": "Python 2",
   "language": "python",
   "name": "python2"
  },
  "language_info": {
   "codemirror_mode": {
    "name": "ipython",
    "version": 2
   },
   "file_extension": ".py",
   "mimetype": "text/x-python",
   "name": "python",
   "nbconvert_exporter": "python",
   "pygments_lexer": "ipython2",
   "version": "2.7.6"
  }
 },
 "nbformat": 4,
 "nbformat_minor": 0
}
